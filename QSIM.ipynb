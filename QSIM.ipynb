{
 "cells": [
  {
   "cell_type": "markdown",
   "metadata": {},
   "source": [
    "# Untitled Supermarked Project\n",
    "## Queuing Simulator\n",
    "This Queuing Simulator can be used to simulate a wide variety of  situations and is therefore quite flexible. It's structure however, is heavily tailored to the needs of the dataset.<br>\n",
    "This notebook visualizes the uses of the function. For the main Jupyter Notebook, a .py file is used to import the functions."
   ]
  },
  {
   "cell_type": "markdown",
   "metadata": {},
   "source": [
    "### Setting Up Workshop"
   ]
  },
  {
   "cell_type": "code",
   "execution_count": 97,
   "metadata": {},
   "outputs": [],
   "source": [
    "# DataFrames\n",
    "import pandas as pd\n",
    "# Visualizations\n",
    "import matplotlib.pyplot as plt\n",
    "# Statistics\n",
    "from scipy import stats \n",
    "# Array and Array Math\n",
    "import numpy as np"
   ]
  },
  {
   "cell_type": "markdown",
   "metadata": {},
   "source": [
    "### Simulating a Queuing System\n",
    "<img src=\"https://upload.wikimedia.org/wikipedia/commons/6/65/Mm1_queue.svg\"/>\n",
    "In queuing theory a basic queuing system consists of customers an arrival process, service station (which follow a service process) and the resulting queue. The waiting is the result of an arrival while the station is busy serving a customer.<br>\n",
    "The entry-process is a stochastic process, meaning that the time between each arrival is determined by a random variable. The service-process determines similary the time needed to service a customer. After the service, the customer leaves the system.\n",
    "There can be more than one station:\n",
    "<img src=\"https://upload.wikimedia.org/wikipedia/commons/0/06/Queueing_node_service_digram.png\"/>\n",
    "Therefore, in order to set up a basic queuing system, one needs to determine:<br>\n",
    "- the entry process,<br>\n",
    "- the service process, and<br>\n",
    "- the number of stations."
   ]
  },
  {
   "cell_type": "markdown",
   "metadata": {},
   "source": [
    "#### Python Functions\n",
    "<u>Entry Process:</u> Determined by random variable via a scipy.stats object (entry_variable) and its parameters (entry_variable_parameters).<br>\n",
    "<u>Service Process:</u> Is determined by a random variable and parameters (service_variable, service_variable_paramenter).<br>\n",
    "<u>Number of Stations:</u> Is derived from \"shifts\", in order to process the information from the dataset directly. Shifts will be a list of tupels, comprising of the beginning and the end of the shift. Examples:<br>\n",
    "- One Station: [(0,np.nan)], meaning a shift that starts at 0 and ends at the end of the run.<br>\n",
    "- Two Stations: [(0,np.nan),(0,np.nan)].<br>"
   ]
  },
  {
   "cell_type": "code",
   "execution_count": 98,
   "metadata": {},
   "outputs": [],
   "source": [
    "# Random generates an Entry-Process (= \"the time a customer enters the waiting area\")\n",
    "def entry_process(customers, entry_variable, entry_variable_parameters):\n",
    "    # Set up Collector for results\n",
    "    results          = pd.DataFrame([])\n",
    "    # Generates randomly how much time passes between Customers\n",
    "    results[\"time\"]  = entry_variable(** entry_variable_parameters, size = customers)\n",
    "    # Sum up to determine entry time of each customer\n",
    "    results[\"entry\"] = results.time.cumsum()\n",
    "    # Return results\n",
    "    return results[\"entry\"]"
   ]
  },
  {
   "cell_type": "code",
   "execution_count": 99,
   "metadata": {},
   "outputs": [
    {
     "name": "stdout",
     "output_type": "stream",
     "text": [
      "0    0.795875\n",
      "1    2.051805\n",
      "2    2.975028\n",
      "3    3.762230\n",
      "4    4.313278\n",
      "Name: entry, dtype: float64\n"
     ]
    }
   ],
   "source": [
    "demo_arrival = entry_process(customers                 = 5,\n",
    "                             entry_variable            = stats.expon.rvs,\n",
    "                             entry_variable_parameters = {\"loc\" : 0, \"scale\" : 1, \"random_state\" : 0})\n",
    "print(example_arrival)"
   ]
  },
  {
   "cell_type": "code",
   "execution_count": 100,
   "metadata": {},
   "outputs": [],
   "source": [
    "# Random-generates the the service-process and the resulting exit-process\n",
    "# (= \"the time a customer gets to/ leaves the cashier\")\n",
    "def service_process(entries, service_variable, service_variable_parameters, shifts):\n",
    "    # Turn Shifts into Stations\n",
    "    stations = np.array(shifts, dtype=[('ready', '<f8'), ('close', '<f8')])\n",
    "    # Set up Collectors for Results\n",
    "    results_service = ([])\n",
    "    results_station = ([])\n",
    "    results_exit    = ([]) \n",
    "    # Cycle through Customers of the Entry-Process\n",
    "    for idx in entries:      \n",
    "        # Index of next available Station\n",
    "        # (Customer chooses Station which has been unoccupied the longest)\n",
    "        free = np.nanmin(np.argwhere(stations[\"ready\"] == np.nanmin(stations[\"ready\"])))\n",
    "        # Add Time when Customer starts being serviced \n",
    "        results_service.append(max(idx,stations[\"ready\"][free])) \n",
    "        # Generate time when Customer is done\n",
    "        done = float(max(idx,stations[\"ready\"][free]) + service_variable(** service_variable_parameters, size = 1))\n",
    "        # Add Time when Customer is done/ leaves the register\n",
    "        results_exit.append(done)\n",
    "        # Add used Station\n",
    "        results_station.append(free)\n",
    "        # Check if shift is over and Station can be closed\n",
    "        if(stations[\"close\"][free] <= done):\n",
    "            # Close Station\n",
    "            stations[\"ready\"][free] = np.nan\n",
    "        else:\n",
    "            # Update Station's Ready Time\n",
    "            stations[\"ready\"][free] = done   \n",
    "    # Return results\n",
    "    return results_service, results_exit, results_station"
   ]
  },
  {
   "cell_type": "code",
   "execution_count": 101,
   "metadata": {},
   "outputs": [
    {
     "data": {
      "text/plain": [
       "([0.79587450816311,\n",
       "  2.0518052711289476,\n",
       "  2.9750284169330166,\n",
       "  3.7622295692502874,\n",
       "  4.3132780603457865],\n",
       " [1.3354803454222954,\n",
       "  2.591411108388133,\n",
       "  3.514634254192202,\n",
       "  4.301835406509473,\n",
       "  4.852883897604972],\n",
       " [0, 1, 0, 1, 0])"
      ]
     },
     "execution_count": 101,
     "metadata": {},
     "output_type": "execute_result"
    }
   ],
   "source": [
    "service_process(entries                     = demo_arrival,\n",
    "                service_variable            = stats.expon.rvs,\n",
    "                service_variable_parameters = {\"loc\" : 0, \"scale\" : 1, \"random_state\" : 1},\n",
    "                shifts                      = [(0,np.nan),(0,np.nan)])"
   ]
  },
  {
   "cell_type": "code",
   "execution_count": 102,
   "metadata": {},
   "outputs": [],
   "source": [
    "# Simulate Queue by combining entry_process and service_process, and returning the relevant data in a dataframe\n",
    "def makeq(n_customers,\n",
    "          entry_variable,entry_variable_parameters,\n",
    "          service_variable,service_variable_parameters,\n",
    "          shifts):\n",
    "    # Set Up Collector for Results\n",
    "    overview                              = pd.DataFrame([])\n",
    "    # Random Generate Entrance of Customers\n",
    "    overview[\"entry\"]                     = entry_process(n_customers,\n",
    "                                                          entry_variable,\n",
    "                                                          entry_variable_parameters)\n",
    "    # Random Generate Service/ Exit of Customers\n",
    "    overview[\"service\"], overview[\"exit\"], overview[\"station\"] = service_process(overview[\"entry\"], \n",
    "                                                                                 service_variable,\n",
    "                                                                                 service_variable_parameters, \n",
    "                                                                                 shifts)\n",
    "    # Return resulting Dataframe\n",
    "    return(overview)"
   ]
  },
  {
   "cell_type": "code",
   "execution_count": 103,
   "metadata": {},
   "outputs": [
    {
     "data": {
      "text/html": [
       "<div>\n",
       "<style scoped>\n",
       "    .dataframe tbody tr th:only-of-type {\n",
       "        vertical-align: middle;\n",
       "    }\n",
       "\n",
       "    .dataframe tbody tr th {\n",
       "        vertical-align: top;\n",
       "    }\n",
       "\n",
       "    .dataframe thead th {\n",
       "        text-align: right;\n",
       "    }\n",
       "</style>\n",
       "<table border=\"1\" class=\"dataframe\">\n",
       "  <thead>\n",
       "    <tr style=\"text-align: right;\">\n",
       "      <th></th>\n",
       "      <th>entry</th>\n",
       "      <th>service</th>\n",
       "      <th>exit</th>\n",
       "      <th>station</th>\n",
       "    </tr>\n",
       "  </thead>\n",
       "  <tbody>\n",
       "    <tr>\n",
       "      <th>0</th>\n",
       "      <td>0.795875</td>\n",
       "      <td>0.795875</td>\n",
       "      <td>1.335480</td>\n",
       "      <td>0</td>\n",
       "    </tr>\n",
       "    <tr>\n",
       "      <th>1</th>\n",
       "      <td>2.051805</td>\n",
       "      <td>2.051805</td>\n",
       "      <td>2.591411</td>\n",
       "      <td>1</td>\n",
       "    </tr>\n",
       "    <tr>\n",
       "      <th>2</th>\n",
       "      <td>2.975028</td>\n",
       "      <td>2.975028</td>\n",
       "      <td>3.514634</td>\n",
       "      <td>0</td>\n",
       "    </tr>\n",
       "    <tr>\n",
       "      <th>3</th>\n",
       "      <td>3.762230</td>\n",
       "      <td>3.762230</td>\n",
       "      <td>4.301835</td>\n",
       "      <td>1</td>\n",
       "    </tr>\n",
       "    <tr>\n",
       "      <th>4</th>\n",
       "      <td>4.313278</td>\n",
       "      <td>4.313278</td>\n",
       "      <td>4.852884</td>\n",
       "      <td>0</td>\n",
       "    </tr>\n",
       "  </tbody>\n",
       "</table>\n",
       "</div>"
      ],
      "text/plain": [
       "      entry   service      exit  station\n",
       "0  0.795875  0.795875  1.335480        0\n",
       "1  2.051805  2.051805  2.591411        1\n",
       "2  2.975028  2.975028  3.514634        0\n",
       "3  3.762230  3.762230  4.301835        1\n",
       "4  4.313278  4.313278  4.852884        0"
      ]
     },
     "execution_count": 103,
     "metadata": {},
     "output_type": "execute_result"
    }
   ],
   "source": [
    "makeq(n_customers                 = 5,\n",
    "      entry_variable              = stats.expon.rvs,\n",
    "      entry_variable_parameters   = {\"loc\" : 0, \"scale\" : 1, \"random_state\" : 0},\n",
    "      service_variable            = stats.expon.rvs,\n",
    "      service_variable_parameters = {\"loc\" : 0, \"scale\" : 1, \"random_state\" : 1},\n",
    "      shifts                      = [(0,np.nan),(0,np.nan)])"
   ]
  },
  {
   "cell_type": "markdown",
   "metadata": {},
   "source": [
    "#### Test Runs\n",
    "The test runs will be named using the Kendall Notation: Entry Process/ Service Process/ Number of Stations.<br>\n",
    "<i>M</i> means the time between arrivals is exponential-random distributed. $ \\lambda $ is the arrival rate, $ \\mu $ the service rate. You can find explanations on the Kendall Notation [here](https://en.wikipedia.org/wiki/Kendall%27s_notation)."
   ]
  },
  {
   "cell_type": "markdown",
   "metadata": {},
   "source": [
    "##### M/M/1 Queue\n",
    "- $ \\lambda $ : 1\n",
    "- $ \\mu $ : 1"
   ]
  },
  {
   "cell_type": "code",
   "execution_count": 104,
   "metadata": {},
   "outputs": [],
   "source": [
    "title                       = \"M/M/1 - Queue\"\n",
    "n_customers                 = 100\n",
    "entry_variable              = stats.expon.rvs\n",
    "entry_variable_parameters   = {\"loc\" : 0, \"scale\" : 1, \"random_state\" : 0}\n",
    "service_variable            = stats.expon.rvs\n",
    "service_variable_parameters = {\"loc\" : 0, \"scale\" : 1, \"random_state\" : 0}\n",
    "shifts                      = [(0,np.nan)]"
   ]
  },
  {
   "cell_type": "code",
   "execution_count": 105,
   "metadata": {},
   "outputs": [
    {
     "data": {
      "image/png": "[encoded data removed]",
      "text/plain": [
       "<Figure size 432x288 with 1 Axes>"
      ]
     },
     "metadata": {
      "needs_background": "light"
     },
     "output_type": "display_data"
    }
   ],
   "source": [
    "# Gernerate Data\n",
    "example = makeq(n_customers,\n",
    "                entry_variable,   entry_variable_parameters,\n",
    "                service_variable, service_variable_parameters,\n",
    "                shifts)\n",
    "# Plot Results\n",
    "plt.title(title)\n",
    "plt.plot(example.exit)\n",
    "plt.ylabel(\"Time of Exit\")\n",
    "plt.xlabel(\"Customer\")\n",
    "plt.show()"
   ]
  },
  {
   "cell_type": "markdown",
   "metadata": {},
   "source": [
    "#### M/M/2 Queue\n",
    "- $ \\lambda $ : 1\n",
    "- $ \\mu $ : 1"
   ]
  },
  {
   "cell_type": "code",
   "execution_count": 106,
   "metadata": {},
   "outputs": [],
   "source": [
    "title                       = \"M/M/2 - Queue\"\n",
    "n_customers                 = 100\n",
    "entry_variable              = stats.expon.rvs\n",
    "entry_variable_parameters   = {\"loc\" : 0, \"scale\" : 1, \"random_state\" : 0}\n",
    "service_variable            = stats.expon.rvs\n",
    "service_variable_parameters = {\"loc\" : 0, \"scale\" : 1, \"random_state\" : 0}\n",
    "shifts                      = [(0,np.nan),(0,np.nan)]"
   ]
  },
  {
   "cell_type": "code",
   "execution_count": 107,
   "metadata": {},
   "outputs": [
    {
     "data": {
      "image/png": "[encoded data removed]",
      "text/plain": [
       "<Figure size 432x288 with 1 Axes>"
      ]
     },
     "metadata": {
      "needs_background": "light"
     },
     "output_type": "display_data"
    }
   ],
   "source": [
    "# Gernerate Data\n",
    "example = makeq(n_customers,\n",
    "                entry_variable, entry_variable_parameters,\n",
    "                service_variable,service_variable_parameters,\n",
    "                shifts)\n",
    "# Plot Results\n",
    "plt.suptitle(title)\n",
    "plt.plot(example.exit)\n",
    "plt.ylabel(\"Time of Exit\")\n",
    "plt.xlabel(\"Customer\")\n",
    "plt.show()"
   ]
  },
  {
   "cell_type": "markdown",
   "metadata": {},
   "source": [
    "#### M/M/c(t) Queue\n",
    "- $ \\lambda $ : 2\n",
    "- $ \\mu $ : 1\n",
    "- <b>c(t)</b> : 1 for t <= 20 and t >= 40, 2 for t > 20 and t < 40"
   ]
  },
  {
   "cell_type": "code",
   "execution_count": 108,
   "metadata": {},
   "outputs": [],
   "source": [
    "title                       = \"M/M/c(t) - Queue\"\n",
    "n_customers                 = 100\n",
    "entry_variable              = stats.expon.rvs\n",
    "entry_variable_parameters   = {\"loc\" : 0, \"scale\" : 2, \"random_state\" : 0}\n",
    "service_variable            = stats.expon.rvs\n",
    "service_variable_parameters = {\"loc\" : 0, \"scale\" : 1, \"random_state\" : 0}\n",
    "shifts                      = [(0,np.nan),(20,40)]"
   ]
  },
  {
   "cell_type": "code",
   "execution_count": 109,
   "metadata": {},
   "outputs": [
    {
     "data": {
      "image/png": "[encoded data removed]",
      "text/plain": [
       "<Figure size 432x288 with 1 Axes>"
      ]
     },
     "metadata": {
      "needs_background": "light"
     },
     "output_type": "display_data"
    }
   ],
   "source": [
    "# Gernerate Data\n",
    "example = makeq(n_customers,\n",
    "                entry_variable, entry_variable_parameters,\n",
    "                service_variable,service_variable_parameters,\n",
    "                shifts)\n",
    "# Plot Results\n",
    "plt.suptitle(title)\n",
    "plt.plot(example.exit)\n",
    "plt.ylabel(\"Time of Exit\")\n",
    "plt.xlabel(\"Customer\")\n",
    "plt.show()"
   ]
  },
  {
   "cell_type": "markdown",
   "metadata": {},
   "source": [
    "### Monte Carlo Studies "
   ]
  },
  {
   "cell_type": "markdown",
   "metadata": {},
   "source": [
    "#### Functions"
   ]
  },
  {
   "cell_type": "code",
   "execution_count": 110,
   "metadata": {},
   "outputs": [],
   "source": [
    "# Make a set, which stores the relevant results (exit time of each costumer) from multiple queuing simulation runs\n",
    "def alotta_queues (runs,\n",
    "                 n_customers, entry_variable, entry_variable_parameters,\n",
    "                 service_variable, service_variable_parameters, shifts):\n",
    "    # Set up Collector for results\n",
    "    exits = pd.DataFrame([])\n",
    "    # Runs multiple Queing Simulations\n",
    "    for idx in range(1,runs+1):    \n",
    "        exits = exits.append(makeq(n_customers, entry_variable, entry_variable_parameters,\n",
    "                                  service_variable, service_variable_parameters, shifts).exit)\n",
    "    return exits"
   ]
  },
  {
   "cell_type": "code",
   "execution_count": 111,
   "metadata": {},
   "outputs": [],
   "source": [
    "runs                        = 1000\n",
    "title                       = \"M/M/1 - Queue\"\n",
    "n_customers                 = 100\n",
    "entry_variable              = stats.expon.rvs\n",
    "entry_variable_parameters   = {\"loc\" : 0, \"scale\" : 0.1}\n",
    "service_variable            = stats.expon.rvs\n",
    "service_variable_parameters = {\"loc\" : 0, \"scale\" : 1}\n",
    "shifts                      = [(0,np.nan),(25,np.nan)]"
   ]
  },
  {
   "cell_type": "code",
   "execution_count": 112,
   "metadata": {},
   "outputs": [],
   "source": [
    "example = alotta_queues(runs,\n",
    "                 n_customers,entry_variable,entry_variable_parameters,\n",
    "                 service_variable,service_variable_parameters,shifts)\n",
    "example.index = range(0,runs)"
   ]
  },
  {
   "cell_type": "markdown",
   "metadata": {},
   "source": [
    "#### Test Runs"
   ]
  },
  {
   "cell_type": "code",
   "execution_count": 113,
   "metadata": {},
   "outputs": [
    {
     "data": {
      "image/png": "[encoded data removed]",
      "text/plain": [
       "<Figure size 432x288 with 1 Axes>"
      ]
     },
     "metadata": {
      "needs_background": "light"
     },
     "output_type": "display_data"
    }
   ],
   "source": [
    "plt.title(title)\n",
    "plt.ylabel(\"Time of Exit\")\n",
    "plt.xlabel(\"customer\")\n",
    "plt.tick_params(\n",
    "    axis        = 'x',\n",
    "    which       = 'both',\n",
    "    bottom      = False,\n",
    "    top         = False,\n",
    "    labelbottom = False)\n",
    "plt.boxplot(example.T, showfliers = False)\n",
    "\n",
    "exampleq = makeq(n_customers,\n",
    "                entry_variable, entry_variable_parameters,\n",
    "                service_variable,service_variable_parameters,\n",
    "                [(0,np.nan),(25,np.nan)])\n",
    "# Plot Results\n",
    "plt.plot(exampleq.exit, color = \"red\")\n",
    "\n",
    "\n",
    "entry_variable_parameters   = {\"loc\" : 0, \"scale\" : 1}\n",
    "service_variable_parameters = {\"loc\" : 0, \"scale\" : 0.1}\n",
    "\n",
    "\n",
    "exampleq = makeq(n_customers,\n",
    "                entry_variable, entry_variable_parameters,\n",
    "                service_variable,service_variable_parameters,\n",
    "                [(0,np.nan),(25,np.nan)])\n",
    "# Plot Results\n",
    "plt.plot(exampleq.exit, color = \"blue\")\n",
    "\n",
    "plt.show()"
   ]
  },
  {
   "cell_type": "markdown",
   "metadata": {},
   "source": [
    "### Construction Site"
   ]
  },
  {
   "cell_type": "code",
   "execution_count": null,
   "metadata": {},
   "outputs": [],
   "source": [
    "# Create two subplots and unpack the output array immediately\n",
    "f, (ax1, ax2, ax3) = plt.subplots(1, 3, sharey = False)\n",
    "ax1.scatter(y = example.exit, x = example.entry)\n",
    "ax1.set_xlabel(\"entry time\")\n",
    "ax1.set_ylabel(\"exit time\")\n",
    "ax2.scatter(y = (example.exit-example.entry), x = example.entry)\n",
    "ax2.set_xlabel(\"entry time\")\n",
    "ax2.set_ylabel(\"waiting time\")\n",
    "ax3.plot(example.exit)\n",
    "ax3.set_xlabel(\"customer\")\n",
    "ax3.set_ylabel(\"exit time\")\n",
    "plt.show()"
   ]
  },
  {
   "cell_type": "code",
   "execution_count": null,
   "metadata": {},
   "outputs": [],
   "source": [
    "plt.suptitle(title)\n",
    "plt.title(\"No Wait vs Wait\")\n",
    "plt.pie([((example.service - example.entry) == 0).sum(),\n",
    "         ((example.service - example.entry) != 0).sum()],\n",
    "       labels = [\"No Wait\",\"Wait\"])\n",
    "plt.show()"
   ]
  },
  {
   "cell_type": "code",
   "execution_count": null,
   "metadata": {},
   "outputs": [],
   "source": [
    "waiting_times = example.service - example.entry\n",
    "plt.suptitle(title)\n",
    "plt.title(\"Waiting Time Distribution\")\n",
    "plt.ylabel(\"Count\")\n",
    "plt.xlabel(\"Waiting Times in Seconds\")\n",
    "plt.hist(waiting_times[waiting_times>0])\n",
    "plt.show()"
   ]
  },
  {
   "cell_type": "code",
   "execution_count": null,
   "metadata": {},
   "outputs": [],
   "source": [
    "plt.suptitle(title)\n",
    "plt.scatter(y = (example.service-example.entry), x = example.entry, c = example.station)\n",
    "plt.ylabel(\"Waiting Time\")\n",
    "plt.xlabel(\"Time of Entry\")\n",
    "plt.show()"
   ]
  },
  {
   "cell_type": "markdown",
   "metadata": {},
   "source": [
    "## Sorces\n",
    "- Images: Wikipedia"
   ]
  },
  {
   "cell_type": "markdown",
   "metadata": {},
   "source": [
    "## Future Works\n",
    "### Queue Generator:\n",
    "- Non Stationary Entry-Process<br>\n",
    "- Non Stationary Service-Process<br>\n",
    "- Offer Choice to end QueueSim after specific time passed vs specific number of customers<br>\n",
    "- Multiplot for Analysis (EntryTime/ Exit Time; EntryTime/ Waiting Time; Customer/ Exittime)<br>\n",
    "\n",
    "### Monte Carlo Simulation:\n",
    "- Compare Results to known result<br>\n",
    "- Validate Queue Generator<br>\n",
    "- Analyze Results<br>\n",
    "- Compare Results to actual case<br>\n",
    "- Select Number of runs vs desired accuracy of results<br>\n",
    "\n",
    "### General\n",
    "- Export Functions to .py<br>\n",
    "- Consider List vs Numpy vs Pandas<br>\n",
    "- Consider Object-Oriented approach<br>"
   ]
  }
 ],
 "metadata": {
  "kernelspec": {
   "display_name": "Python 3",
   "language": "python",
   "name": "python3"
  },
  "language_info": {
   "codemirror_mode": {
    "name": "ipython",
    "version": 3
   },
   "file_extension": ".py",
   "mimetype": "text/x-python",
   "name": "python",
   "nbconvert_exporter": "python",
   "pygments_lexer": "ipython3",
   "version": "3.7.6"
  }
 },
 "nbformat": 4,
 "nbformat_minor": 2
}
