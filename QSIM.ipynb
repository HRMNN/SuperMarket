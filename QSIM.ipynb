{
 "cells": [
  {
   "cell_type": "markdown",
   "metadata": {},
   "source": [
    "# Untitled Supermarked Project\n",
    "## Queing Simulator"
   ]
  },
  {
   "cell_type": "markdown",
   "metadata": {},
   "source": [
    "### Importing Libraries"
   ]
  },
  {
   "cell_type": "code",
   "execution_count": 120,
   "metadata": {},
   "outputs": [],
   "source": [
    "# DataFrames\n",
    "import pandas as pd\n",
    "# Visualizations\n",
    "import matplotlib.pyplot as plt\n",
    "# Statistics\n",
    "from scipy import stats \n",
    "# Array and Array Math\n",
    "import numpy as np"
   ]
  },
  {
   "cell_type": "markdown",
   "metadata": {},
   "source": [
    "### Homebrew Functions"
   ]
  },
  {
   "cell_type": "code",
   "execution_count": 121,
   "metadata": {},
   "outputs": [],
   "source": [
    "# Random generates an Entry-Process\n",
    "def entry_process(packages, variable, parameters):\n",
    "    # Set up Collector for results\n",
    "    results       = pd.DataFrame([])\n",
    "    # Generates randomly how much time passes between Customers\n",
    "    results[\"time\"]  = variable(** parameters, size = packages)\n",
    "    # Sum up to determine entry time of each customer\n",
    "    results[\"entry\"] = results.time.cumsum()\n",
    "    # Return result\n",
    "    return results[\"entry\"]"
   ]
  },
  {
   "cell_type": "code",
   "execution_count": 122,
   "metadata": {},
   "outputs": [],
   "source": [
    "# Random-generates the the service-process and the resulting exit-process\n",
    "def service_process(entries, variable, parameters, n_stations):\n",
    "    # Set up Stations\n",
    "    stations = list(np.repeat(0,n_stations))\n",
    "    # Set up Collectors for Results\n",
    "    results_service = ([])\n",
    "    results_station = ([])\n",
    "    results_exit    = ([]) \n",
    "    # Cycle through Customers of the Entry-Process\n",
    "    for idx in entries:\n",
    "        # Index of next available Station\n",
    "        free = stations.index(min(stations))    \n",
    "        # Add Time when Customer is being serviced\n",
    "        results_service.append(max(idx,stations[free]))    \n",
    "        # Generate time when Customer is done\n",
    "        done = float(max(idx,stations[free]) + variable(** parameters, size = 1))\n",
    "        # Add Time when Customer is done\n",
    "        results_exit.append(done)\n",
    "        # Add used Station\n",
    "        results_station.append(free)\n",
    "        # Update Station\n",
    "        stations[free] = done   \n",
    "    # Return results\n",
    "    return results_service, results_exit, results_station"
   ]
  },
  {
   "cell_type": "code",
   "execution_count": 123,
   "metadata": {},
   "outputs": [],
   "source": [
    "# Simulate Queue\n",
    "def makeq(n_customers,\n",
    "          entry_variable,entry_variable_parameters,\n",
    "          service_variable,service_variable_parameters,\n",
    "          n_stations):\n",
    "    # Set Up Collector for Results\n",
    "    overview                              = pd.DataFrame([])\n",
    "    # Random Generate Entrance of Customers\n",
    "    overview[\"entry\"]                     = entry_process(n_customers,\n",
    "                                                          entry_variable,\n",
    "                                                          entry_variable_parameters)\n",
    "    # Random Generate Service/ Exit of Customers\n",
    "    overview[\"service\"], overview[\"exit\"], overview[\"station\"] = service_process(overview[\"entry\"], \n",
    "                                                                                 service_variable, \n",
    "                                                                                 service_variable_parameters, \n",
    "                                                                                 n_stations)\n",
    "    # Return resulting Dataframe\n",
    "    return(overview)"
   ]
  },
  {
   "cell_type": "markdown",
   "metadata": {},
   "source": [
    "### Test Runs"
   ]
  },
  {
   "cell_type": "markdown",
   "metadata": {},
   "source": [
    "#### M/M/1 Queue\n",
    "- $ \\lambda $ : 1\n",
    "- $ \\mu $ : 1"
   ]
  },
  {
   "cell_type": "code",
   "execution_count": 124,
   "metadata": {},
   "outputs": [],
   "source": [
    "title                       = \"M/M/1 - Queue\"\n",
    "n_customers                 = 100\n",
    "entry_variable              = stats.expon.rvs\n",
    "entry_variable_parameters   = {\"loc\" : 0, \"scale\" : 1, \"random_state\" : 0}\n",
    "service_variable            = stats.expon.rvs\n",
    "service_variable_parameters = {\"loc\" : 0, \"scale\" : 1, \"random_state\" : 0}\n",
    "n_stations                  = 1"
   ]
  },
  {
   "cell_type": "code",
   "execution_count": 125,
   "metadata": {},
   "outputs": [
    {
     "data": {
      "image/png": "[encoded data removed]",
      "text/plain": [
       "<Figure size 432x288 with 1 Axes>"
      ]
     },
     "metadata": {
      "needs_background": "light"
     },
     "output_type": "display_data"
    }
   ],
   "source": [
    "# Gernerate Data\n",
    "example = makeq(n_customers,\n",
    "                entry_variable, entry_variable_parameters,\n",
    "                service_variable,service_variable_parameters,\n",
    "                n_stations)\n",
    "# Plot Results\n",
    "plt.title(title)\n",
    "plt.plot(example.exit)\n",
    "plt.ylabel(\"Time of Entry\")\n",
    "plt.xlabel(\"Customer\")\n",
    "plt.show()"
   ]
  },
  {
   "cell_type": "markdown",
   "metadata": {},
   "source": [
    "#### M/M/2 Queue\n",
    "- $ \\lambda $ : 1\n",
    "- $ \\mu $ : 1"
   ]
  },
  {
   "cell_type": "code",
   "execution_count": 126,
   "metadata": {},
   "outputs": [],
   "source": [
    "title                       = \"M/M/2 - Queue\"\n",
    "n_customers                 = 100\n",
    "entry_variable              = stats.expon.rvs\n",
    "entry_variable_parameters   = {\"loc\" : 0, \"scale\" : 1, \"random_state\" : 0}\n",
    "service_variable            = stats.expon.rvs\n",
    "service_variable_parameters = {\"loc\" : 0, \"scale\" : 1, \"random_state\" : 0}\n",
    "n_stations                  = 2"
   ]
  },
  {
   "cell_type": "code",
   "execution_count": 127,
   "metadata": {},
   "outputs": [
    {
     "data": {
      "image/png": "[encoded data removed]",
      "text/plain": [
       "<Figure size 432x288 with 1 Axes>"
      ]
     },
     "metadata": {
      "needs_background": "light"
     },
     "output_type": "display_data"
    }
   ],
   "source": [
    "# Gernerate Data\n",
    "example = makeq(n_customers,\n",
    "                entry_variable, entry_variable_parameters,\n",
    "                service_variable,service_variable_parameters,\n",
    "                n_stations)\n",
    "# Plot Results\n",
    "plt.title(title)\n",
    "plt.plot(example.exit)\n",
    "plt.ylabel(\"Time of Entry\")\n",
    "plt.xlabel(\"Customer\")\n",
    "plt.show()"
   ]
  },
  {
   "cell_type": "markdown",
   "metadata": {},
   "source": [
    "## Work in Progess"
   ]
  },
  {
   "cell_type": "markdown",
   "metadata": {},
   "source": [
    "### Monte Carlo Studies "
   ]
  },
  {
   "cell_type": "code",
   "execution_count": null,
   "metadata": {},
   "outputs": [],
   "source": [
    "runs       = 100\n",
    "resolution = 5"
   ]
  },
  {
   "cell_type": "code",
   "execution_count": null,
   "metadata": {},
   "outputs": [],
   "source": [
    "sets = pd.DataFrame([])\n",
    "for idx in range(1,runs+1):    \n",
    "    sets = sets.append(makeq(n_customers,entry_variable,entry_variable_parameters,service_variable,service_variable_parameters).exit)"
   ]
  },
  {
   "cell_type": "code",
   "execution_count": null,
   "metadata": {},
   "outputs": [],
   "source": [
    "results = pd.DataFrame([])\n",
    "for idx in range(0,int(sets.max().max())+1,resolution):\n",
    "    results[str(idx)] = (((sets >= 0 + idx)&(sets > idx + resolution)).sum(axis = 1))"
   ]
  },
  {
   "cell_type": "code",
   "execution_count": null,
   "metadata": {},
   "outputs": [],
   "source": [
    "plt.boxplot(results.T)\n",
    "plt.show()"
   ]
  },
  {
   "cell_type": "code",
   "execution_count": null,
   "metadata": {},
   "outputs": [],
   "source": [
    "test     = makeq(n_customers,entry_variable,entry_variable_parameters,service_variable,service_variable_parameters).exit\n",
    "results2 = pd.DataFrame([])\n",
    "for idx in range(0,int(test.max().max())+1,resolution):\n",
    "    results2[str(idx)] = ((test >= 0 + idx)&(test > idx + resolution))"
   ]
  },
  {
   "cell_type": "markdown",
   "metadata": {},
   "source": [
    "## Future Works\n",
    "- Multiple Stations, non Stationar via Shiftplan<br>\n",
    "- Non Stationary Entry-Process<br>\n",
    "- Non Stationary Service-Process<br>\n",
    "- Consider List vs Numpy vs Pandas\n",
    "- Consider Object-Oriented approach<br>"
   ]
  }
 ],
 "metadata": {
  "kernelspec": {
   "display_name": "Python 3",
   "language": "python",
   "name": "python3"
  },
  "language_info": {
   "codemirror_mode": {
    "name": "ipython",
    "version": 3
   },
   "file_extension": ".py",
   "mimetype": "text/x-python",
   "name": "python",
   "nbconvert_exporter": "python",
   "pygments_lexer": "ipython3",
   "version": "3.7.6"
  }
 },
 "nbformat": 4,
 "nbformat_minor": 2
}
