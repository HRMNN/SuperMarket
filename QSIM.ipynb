{
 "cells": [
  {
   "cell_type": "markdown",
   "metadata": {},
   "source": [
    "# Untitled Supermarked Project\n",
    "## Queing Simulator"
   ]
  },
  {
   "cell_type": "markdown",
   "metadata": {},
   "source": [
    "### Importing Libraries"
   ]
  },
  {
   "cell_type": "code",
   "execution_count": 112,
   "metadata": {},
   "outputs": [],
   "source": [
    "# DataFrames\n",
    "import pandas as pd\n",
    "# Visualizations\n",
    "import matplotlib.pyplot as plt\n",
    "# Statistics\n",
    "from scipy import stats \n",
    "# Array and Array Math\n",
    "import numpy as np"
   ]
  },
  {
   "cell_type": "markdown",
   "metadata": {},
   "source": [
    "### Homebrew Functions"
   ]
  },
  {
   "cell_type": "code",
   "execution_count": 106,
   "metadata": {},
   "outputs": [],
   "source": [
    "# Random generates an Entry-Process\n",
    "def entry_process(packages, variable, parameters):\n",
    "    # Set up Collector for results\n",
    "    results       = pd.DataFrame([])\n",
    "    # Generates random numbers between Customers\n",
    "    results[\"time\"]  = variable(** parameters, size = packages)\n",
    "    # Sum up to determine entry time of each customer\n",
    "    results[\"entry\"] = results.time.cumsum()\n",
    "    # Return result\n",
    "    return results[\"entry\"]"
   ]
  },
  {
   "cell_type": "code",
   "execution_count": 107,
   "metadata": {},
   "outputs": [],
   "source": [
    "# Random-generates the the service-process and the resulting exit-process\n",
    "def service_process(entries, variable, parameters):\n",
    "    # Set up Station\n",
    "    station = 0\n",
    "    # Set up Collectors for Results\n",
    "    results_service = ([])\n",
    "    results_exit    = ([])\n",
    "    # Cycle through Customers of the Entry-Process\n",
    "    for idx in entries:\n",
    "        # Add Time when Customer is being serviced\n",
    "        results_service.append(max(idx,station))\n",
    "        # Generate time when Customer is done\n",
    "        done = float(max(idx,station) + variable(** parameters, size = 1))\n",
    "        # Add Time when Customer is done\n",
    "        results_exit.append(done)\n",
    "        # Update Station\n",
    "        station = done\n",
    "    # Return results\n",
    "    return results_service, results_exit"
   ]
  },
  {
   "cell_type": "markdown",
   "metadata": {},
   "source": [
    "### Test Run"
   ]
  },
  {
   "cell_type": "code",
   "execution_count": 110,
   "metadata": {},
   "outputs": [],
   "source": [
    "n_customers                 = 100\n",
    "entry_variable              = stats.expon.rvs\n",
    "entry_variable_parameters   = {\"loc\" : 0, \"scale\" : 1/2, \"random_state\" : None}\n",
    "service_variable            = stats.expon.rvs\n",
    "service_variable_parameters =  {\"loc\" : 0, \"scale\" : 1/2, \"random_state\" : None}"
   ]
  },
  {
   "cell_type": "code",
   "execution_count": 111,
   "metadata": {},
   "outputs": [
    {
     "data": {
      "text/html": [
       "<div>\n",
       "<style scoped>\n",
       "    .dataframe tbody tr th:only-of-type {\n",
       "        vertical-align: middle;\n",
       "    }\n",
       "\n",
       "    .dataframe tbody tr th {\n",
       "        vertical-align: top;\n",
       "    }\n",
       "\n",
       "    .dataframe thead th {\n",
       "        text-align: right;\n",
       "    }\n",
       "</style>\n",
       "<table border=\"1\" class=\"dataframe\">\n",
       "  <thead>\n",
       "    <tr style=\"text-align: right;\">\n",
       "      <th></th>\n",
       "      <th>entry</th>\n",
       "      <th>service</th>\n",
       "      <th>exit</th>\n",
       "    </tr>\n",
       "  </thead>\n",
       "  <tbody>\n",
       "    <tr>\n",
       "      <th>0</th>\n",
       "      <td>0.422201</td>\n",
       "      <td>0.422201</td>\n",
       "      <td>0.779548</td>\n",
       "    </tr>\n",
       "    <tr>\n",
       "      <th>1</th>\n",
       "      <td>0.429819</td>\n",
       "      <td>0.779548</td>\n",
       "      <td>1.563712</td>\n",
       "    </tr>\n",
       "    <tr>\n",
       "      <th>2</th>\n",
       "      <td>0.749083</td>\n",
       "      <td>1.563712</td>\n",
       "      <td>2.048253</td>\n",
       "    </tr>\n",
       "    <tr>\n",
       "      <th>3</th>\n",
       "      <td>1.378427</td>\n",
       "      <td>2.048253</td>\n",
       "      <td>2.247845</td>\n",
       "    </tr>\n",
       "    <tr>\n",
       "      <th>4</th>\n",
       "      <td>2.893602</td>\n",
       "      <td>2.893602</td>\n",
       "      <td>2.997008</td>\n",
       "    </tr>\n",
       "    <tr>\n",
       "      <th>...</th>\n",
       "      <td>...</td>\n",
       "      <td>...</td>\n",
       "      <td>...</td>\n",
       "    </tr>\n",
       "    <tr>\n",
       "      <th>95</th>\n",
       "      <td>44.474219</td>\n",
       "      <td>48.874009</td>\n",
       "      <td>49.038599</td>\n",
       "    </tr>\n",
       "    <tr>\n",
       "      <th>96</th>\n",
       "      <td>44.680379</td>\n",
       "      <td>49.038599</td>\n",
       "      <td>49.204344</td>\n",
       "    </tr>\n",
       "    <tr>\n",
       "      <th>97</th>\n",
       "      <td>44.991241</td>\n",
       "      <td>49.204344</td>\n",
       "      <td>49.764217</td>\n",
       "    </tr>\n",
       "    <tr>\n",
       "      <th>98</th>\n",
       "      <td>45.224497</td>\n",
       "      <td>49.764217</td>\n",
       "      <td>51.244050</td>\n",
       "    </tr>\n",
       "    <tr>\n",
       "      <th>99</th>\n",
       "      <td>46.782444</td>\n",
       "      <td>51.244050</td>\n",
       "      <td>53.258393</td>\n",
       "    </tr>\n",
       "  </tbody>\n",
       "</table>\n",
       "<p>100 rows × 3 columns</p>\n",
       "</div>"
      ],
      "text/plain": [
       "        entry    service       exit\n",
       "0    0.422201   0.422201   0.779548\n",
       "1    0.429819   0.779548   1.563712\n",
       "2    0.749083   1.563712   2.048253\n",
       "3    1.378427   2.048253   2.247845\n",
       "4    2.893602   2.893602   2.997008\n",
       "..        ...        ...        ...\n",
       "95  44.474219  48.874009  49.038599\n",
       "96  44.680379  49.038599  49.204344\n",
       "97  44.991241  49.204344  49.764217\n",
       "98  45.224497  49.764217  51.244050\n",
       "99  46.782444  51.244050  53.258393\n",
       "\n",
       "[100 rows x 3 columns]"
      ]
     },
     "execution_count": 111,
     "metadata": {},
     "output_type": "execute_result"
    }
   ],
   "source": [
    "overview = pd.DataFrame([])\n",
    "overview[\"entry\"]                     = entry_process(n_customers,\n",
    "                                                      entry_variable,\n",
    "                                                      entry_variable_parameters)\n",
    "overview[\"service\"], overview[\"exit\"] = service_process(overview[\"entry\"],\n",
    "                                                        service_variable,\n",
    "                                                        service_variable_parameters)\n",
    "overview"
   ]
  },
  {
   "cell_type": "code",
   "execution_count": 120,
   "metadata": {},
   "outputs": [
    {
     "data": {
      "image/png": "[encoded data removed]",
      "text/plain": [
       "<Figure size 432x288 with 1 Axes>"
      ]
     },
     "metadata": {
      "needs_background": "light"
     },
     "output_type": "display_data"
    }
   ],
   "source": [
    "plt.title(\"M/M/1 - Queue\")\n",
    "plt.scatter(x = overview.entry, y = overview.exit)\n",
    "plt.xlabel(\"Time of Entry\")\n",
    "plt.ylabel(\"Time of Exit\")\n",
    "plt.show()"
   ]
  },
  {
   "cell_type": "markdown",
   "metadata": {},
   "source": [
    "## Future Works\n",
    "- Multiple Stations<br>\n",
    "- Multiple Stations, non Stationary<br>\n",
    "- Multiple Stations, non Stationar, via Shiftplan<br>\n",
    "- Non Stationary Entry-Process<br>\n",
    "- Consider Object-Oriented approach<br>"
   ]
  }
 ],
 "metadata": {
  "kernelspec": {
   "display_name": "Python 3",
   "language": "python",
   "name": "python3"
  },
  "language_info": {
   "codemirror_mode": {
    "name": "ipython",
    "version": 3
   },
   "file_extension": ".py",
   "mimetype": "text/x-python",
   "name": "python",
   "nbconvert_exporter": "python",
   "pygments_lexer": "ipython3",
   "version": "3.7.6"
  }
 },
 "nbformat": 4,
 "nbformat_minor": 2
}
