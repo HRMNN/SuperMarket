{
 "cells": [
  {
   "cell_type": "markdown",
   "metadata": {},
   "source": [
    "# Untitled Supermarked Project\n",
    "## Queuing Simulator\n",
    "This Queuing Simulator is very flexible, but is tailored to the case/ dataset."
   ]
  },
  {
   "cell_type": "markdown",
   "metadata": {},
   "source": [
    "### Importing Libraries"
   ]
  },
  {
   "cell_type": "code",
   "execution_count": 272,
   "metadata": {},
   "outputs": [],
   "source": [
    "# DataFrames\n",
    "import pandas as pd\n",
    "# Visualizations\n",
    "import matplotlib.pyplot as plt\n",
    "# Statistics\n",
    "from scipy import stats \n",
    "# Array and Array Math\n",
    "import numpy as np"
   ]
  },
  {
   "cell_type": "markdown",
   "metadata": {},
   "source": [
    "### Functions"
   ]
  },
  {
   "cell_type": "code",
   "execution_count": 273,
   "metadata": {},
   "outputs": [],
   "source": [
    "# Random generates an Entry-Process\n",
    "def entry_process(packages, variable, parameters):\n",
    "    # Set up Collector for results\n",
    "    results       = pd.DataFrame([])\n",
    "    # Generates randomly how much time passes between Customers\n",
    "    results[\"time\"]  = variable(** parameters, size = packages)\n",
    "    # Sum up to determine entry time of each customer\n",
    "    results[\"entry\"] = results.time.cumsum()\n",
    "    # Return results\n",
    "    return results[\"entry\"]"
   ]
  },
  {
   "cell_type": "code",
   "execution_count": 274,
   "metadata": {},
   "outputs": [],
   "source": [
    "# Random-generates the the service-process and the resulting exit-process\n",
    "def service_process(entries, variable, parameters, shifts):\n",
    "    # Turn Shifts into Stations\n",
    "    stations = np.array(shifts, dtype=[('ready', '<f8'), ('close', '<f8')])\n",
    "    # Set up Collectors for Results\n",
    "    results_service = ([])\n",
    "    results_station = ([])\n",
    "    results_exit    = ([]) \n",
    "    # Cycle through Customers of the Entry-Process\n",
    "    for idx in entries:      \n",
    "        # Index of next available Station\n",
    "        # Customer chooses Station which has been unoccupied the longest\n",
    "        free = np.nanmin(np.argwhere(stations[\"ready\"] == np.nanmin(stations[\"ready\"])))\n",
    "        # Add Time when Customer is being serviced\n",
    "        results_service.append(max(idx,stations[\"ready\"][free])) \n",
    "        # Generate time when Customer is done\n",
    "        done = float(max(idx,stations[\"ready\"][free]) + variable(** parameters, size = 1))\n",
    "        # Add Time when Customer is done\n",
    "        results_exit.append(done)\n",
    "        # Add used Station\n",
    "        results_station.append(free)\n",
    "        # Check if shift is over and Station to be closed\n",
    "        if(stations[\"close\"][free] <= done):\n",
    "            # Close Station\n",
    "            stations[\"ready\"][free] = np.nan\n",
    "        else:\n",
    "            # Update Station's Ready Time\n",
    "            stations[\"ready\"][free] = done   \n",
    "    # Return results\n",
    "    return results_service, results_exit, results_station"
   ]
  },
  {
   "cell_type": "code",
   "execution_count": 275,
   "metadata": {},
   "outputs": [],
   "source": [
    "# Simulate Queue\n",
    "def makeq(n_customers,\n",
    "          entry_variable,entry_variable_parameters,\n",
    "          service_variable,service_variable_parameters,\n",
    "          shifts):\n",
    "    # Set Up Collector for Results\n",
    "    overview                              = pd.DataFrame([])\n",
    "    # Random Generate Entrance of Customers\n",
    "    overview[\"entry\"]                     = entry_process(n_customers,\n",
    "                                                          entry_variable,\n",
    "                                                          entry_variable_parameters)\n",
    "    # Random Generate Service/ Exit of Customers\n",
    "    overview[\"service\"], overview[\"exit\"], overview[\"station\"] = service_process(overview[\"entry\"], \n",
    "                                                                                 service_variable,\n",
    "                                                                                 service_variable_parameters, \n",
    "                                                                                 shifts)\n",
    "    # Return resulting Dataframe\n",
    "    return(overview)"
   ]
  },
  {
   "cell_type": "markdown",
   "metadata": {},
   "source": [
    "### Test Runs\n",
    "The number of service stations (c) will be derived from \"shifts\", in order to process the information from the data-set. Shifts will be a list of tupels, comprising of the beginning and the end of the shift.<br>\n",
    "- c = 1 will be [(0,np.nan)], meaning on shift that starts at 0 and ends at the end of the run.<br>\n",
    "- c = 2 will be [(0,np.nan),(0,np.nan)].<br>\n",
    "\n",
    "You can find explanations on the Kendall Notation [here](https://en.wikipedia.org/wiki/Kendall%27s_notation).<br>"
   ]
  },
  {
   "cell_type": "markdown",
   "metadata": {},
   "source": [
    "#### M/M/1 Queue\n",
    "- $ \\lambda $ : 1\n",
    "- $ \\mu $ : 1"
   ]
  },
  {
   "cell_type": "code",
   "execution_count": 276,
   "metadata": {},
   "outputs": [],
   "source": [
    "title                       = \"M/M/1 - Queue\"\n",
    "n_customers                 = 100\n",
    "entry_variable              = stats.expon.rvs\n",
    "entry_variable_parameters   = {\"loc\" : 0, \"scale\" : 1, \"random_state\" : 0}\n",
    "service_variable            = stats.expon.rvs\n",
    "service_variable_parameters = {\"loc\" : 0, \"scale\" : 1, \"random_state\" : 0}\n",
    "shifts                      = [(0,np.nan)]"
   ]
  },
  {
   "cell_type": "code",
   "execution_count": 277,
   "metadata": {},
   "outputs": [
    {
     "data": {
      "image/png": "[encoded data removed]",
      "text/plain": [
       "<Figure size 432x288 with 1 Axes>"
      ]
     },
     "metadata": {
      "needs_background": "light"
     },
     "output_type": "display_data"
    }
   ],
   "source": [
    "# Gernerate Data\n",
    "example = makeq(n_customers,\n",
    "                entry_variable,   entry_variable_parameters,\n",
    "                service_variable, service_variable_parameters,\n",
    "                shifts)\n",
    "# Plot Results\n",
    "plt.title(title)\n",
    "plt.plot(example.exit)\n",
    "plt.ylabel(\"Time of Exit\")\n",
    "plt.xlabel(\"Customer\")\n",
    "plt.show()"
   ]
  },
  {
   "cell_type": "markdown",
   "metadata": {},
   "source": [
    "#### M/M/2 Queue\n",
    "- $ \\lambda $ : 1\n",
    "- $ \\mu $ : 1"
   ]
  },
  {
   "cell_type": "code",
   "execution_count": 278,
   "metadata": {},
   "outputs": [],
   "source": [
    "title                       = \"M/M/2 - Queue\"\n",
    "n_customers                 = 100\n",
    "entry_variable              = stats.expon.rvs\n",
    "entry_variable_parameters   = {\"loc\" : 0, \"scale\" : 1, \"random_state\" : 0}\n",
    "service_variable            = stats.expon.rvs\n",
    "service_variable_parameters = {\"loc\" : 0, \"scale\" : 1, \"random_state\" : 0}\n",
    "shifts                      = [(0,np.nan),(0,np.nan)]"
   ]
  },
  {
   "cell_type": "code",
   "execution_count": 279,
   "metadata": {},
   "outputs": [
    {
     "data": {
      "image/png": "[encoded data removed]",
      "text/plain": [
       "<Figure size 432x288 with 1 Axes>"
      ]
     },
     "metadata": {
      "needs_background": "light"
     },
     "output_type": "display_data"
    }
   ],
   "source": [
    "# Gernerate Data\n",
    "example = makeq(n_customers,\n",
    "                entry_variable, entry_variable_parameters,\n",
    "                service_variable,service_variable_parameters,\n",
    "                shifts)\n",
    "# Plot Results\n",
    "plt.suptitle(title)\n",
    "plt.plot(example.exit)\n",
    "plt.ylabel(\"Time of Exit\")\n",
    "plt.xlabel(\"Customer\")\n",
    "plt.show()"
   ]
  },
  {
   "cell_type": "markdown",
   "metadata": {},
   "source": [
    "#### M/M/c(t) Queue\n",
    "- $ \\lambda $ : 0.5\n",
    "- $ \\mu $ : 1\n",
    "- <b>c(t)</b> : 1 for t <= 20 and t >= 40, 2 for t > 20 and t < 40"
   ]
  },
  {
   "cell_type": "code",
   "execution_count": 280,
   "metadata": {},
   "outputs": [],
   "source": [
    "title                       = \"M/M/c(t) - Queue\"\n",
    "n_customers                 = 100\n",
    "entry_variable              = stats.expon.rvs\n",
    "entry_variable_parameters   = {\"loc\" : 0, \"scale\" : 1, \"random_state\" : 0}\n",
    "service_variable            = stats.expon.rvs\n",
    "service_variable_parameters = {\"loc\" : 0, \"scale\" : 1, \"random_state\" : 0}\n",
    "shifts                      = [(0,np.nan),(20,40)]"
   ]
  },
  {
   "cell_type": "code",
   "execution_count": 281,
   "metadata": {},
   "outputs": [
    {
     "data": {
      "image/png": "[encoded data removed]",
      "text/plain": [
       "<Figure size 432x288 with 1 Axes>"
      ]
     },
     "metadata": {
      "needs_background": "light"
     },
     "output_type": "display_data"
    }
   ],
   "source": [
    "# Gernerate Data\n",
    "example = makeq(n_customers,\n",
    "                entry_variable, entry_variable_parameters,\n",
    "                service_variable,service_variable_parameters,\n",
    "                shifts)\n",
    "# Plot Results\n",
    "plt.suptitle(title)\n",
    "plt.plot(example.exit)\n",
    "plt.ylabel(\"Time of Exit\")\n",
    "plt.xlabel(\"Customer\")\n",
    "plt.show()"
   ]
  },
  {
   "cell_type": "markdown",
   "metadata": {},
   "source": [
    "## Work in Progess"
   ]
  },
  {
   "cell_type": "markdown",
   "metadata": {},
   "source": [
    "### Monte Carlo Studies "
   ]
  },
  {
   "cell_type": "code",
   "execution_count": null,
   "metadata": {},
   "outputs": [],
   "source": [
    "runs       = 100\n",
    "resolution = 5"
   ]
  },
  {
   "cell_type": "code",
   "execution_count": null,
   "metadata": {},
   "outputs": [],
   "source": [
    "sets = pd.DataFrame([])\n",
    "for idx in range(1,runs+1):    \n",
    "    sets = sets.append(makeq(n_customers,entry_variable,entry_variable_parameters,service_variable,service_variable_parameters).exit)"
   ]
  },
  {
   "cell_type": "code",
   "execution_count": null,
   "metadata": {},
   "outputs": [],
   "source": [
    "results = pd.DataFrame([])\n",
    "for idx in range(0,int(sets.max().max())+1,resolution):\n",
    "    results[str(idx)] = (((sets >= 0 + idx)&(sets > idx + resolution)).sum(axis = 1))"
   ]
  },
  {
   "cell_type": "code",
   "execution_count": null,
   "metadata": {},
   "outputs": [],
   "source": [
    "plt.boxplot(results.T)\n",
    "plt.show()"
   ]
  },
  {
   "cell_type": "code",
   "execution_count": null,
   "metadata": {},
   "outputs": [],
   "source": [
    "test     = makeq(n_customers,entry_variable,entry_variable_parameters,service_variable,service_variable_parameters).exit\n",
    "results2 = pd.DataFrame([])\n",
    "for idx in range(0,int(test.max().max())+1,resolution):\n",
    "    results2[str(idx)] = ((test >= 0 + idx)&(test > idx + resolution))"
   ]
  },
  {
   "cell_type": "markdown",
   "metadata": {},
   "source": [
    "### Analytics"
   ]
  },
  {
   "cell_type": "code",
   "execution_count": null,
   "metadata": {},
   "outputs": [],
   "source": [
    "plt.suptitle(title)\n",
    "plt.title(\"No Wait vs Wait\")\n",
    "plt.pie([((example.service - example.entry) == 0).sum(),\n",
    "         ((example.service - example.entry) != 0).sum()],\n",
    "       labels = [\"No Wait\",\"Wait\"])\n",
    "plt.show()"
   ]
  },
  {
   "cell_type": "code",
   "execution_count": null,
   "metadata": {},
   "outputs": [],
   "source": [
    "waiting_times = example.service - example.entry\n",
    "plt.suptitle(title)\n",
    "plt.title(\"Waiting Time Distribution\")\n",
    "plt.ylabel(\"Count\")\n",
    "plt.xlabel(\"Waiting Times in Seconds\")\n",
    "plt.hist(waiting_times[waiting_times>0])\n",
    "plt.show()"
   ]
  },
  {
   "cell_type": "code",
   "execution_count": null,
   "metadata": {},
   "outputs": [],
   "source": [
    "plt.suptitle(title)\n",
    "plt.scatter(y = (example.service-example.entry), x = example.entry, c = example.station)\n",
    "plt.ylabel(\"Waiting Time\")\n",
    "plt.xlabel(\"Time of Entry\")\n",
    "plt.show()"
   ]
  },
  {
   "cell_type": "markdown",
   "metadata": {},
   "source": [
    "## Future Works\n",
    "### Queue Generator:\n",
    "- Offer Choice to end QueueSim after specific time passed vs specific number of customers<br>\n",
    "- Non Stationary Entry-Process<br>\n",
    "- Non Stationary Service-Process<br>\n",
    "\n",
    "### Monte Carlo Simulation:\n",
    "- Repeat Queue Generation<br>\n",
    "- Analyze Results<br>\n",
    "- Compare Results to actual case<br>\n",
    "\n",
    "### Analysis\n",
    "- Visualize Waiting Statistics<br>\n",
    "\n",
    "### General\n",
    "- Export Functions<br>\n",
    "- Consider List vs Numpy vs Pandas<br>\n",
    "- Consider Object-Oriented approach<br>"
   ]
  }
 ],
 "metadata": {
  "kernelspec": {
   "display_name": "Python 3",
   "language": "python",
   "name": "python3"
  },
  "language_info": {
   "codemirror_mode": {
    "name": "ipython",
    "version": 3
   },
   "file_extension": ".py",
   "mimetype": "text/x-python",
   "name": "python",
   "nbconvert_exporter": "python",
   "pygments_lexer": "ipython3",
   "version": "3.7.6"
  }
 },
 "nbformat": 4,
 "nbformat_minor": 2
}
